{
 "cells": [
  {
   "cell_type": "markdown",
   "metadata": {},
   "source": [
    "# Sentiment Analysis and Clustering of Pubmed Abstracts"
   ]
  },
  {
   "cell_type": "code",
   "execution_count": 1,
   "metadata": {},
   "outputs": [],
   "source": [
    "import pandas as pd\n",
    "import numpy as np\n",
    "import matplotlib.pyplot as plt\n",
    "import seaborn as sns\n",
    "import datetime,re, string, timeit, nltk\n",
    "from sklearn.feature_extraction.text import CountVectorizer,TfidfVectorizer\n",
    "from nltk.stem import WordNetLemmatizer\n",
    "from nltk.corpus import stopwords\n",
    "from nltk.sentiment.vader import SentimentIntensityAnalyzer\n",
    "from nltk.corpus import sentiwordnet as swn\n",
    "from nltk.corpus.reader.wordnet import WordNetError\n",
    "from sklearn.feature_extraction.text import TfidfVectorizer\n",
    "from sklearn.metrics.pairwise import cosine_similarity\n",
    "from sklearn.cluster import KMeans\n",
    "from  sklearn.externals import joblib\n",
    "from nltk.tag import StanfordNERTagger\n",
    "from nltk.tag.stanford import CoreNLPNERTagger\n",
    "from nltk.tag.stanford import StanfordNERTagger\n",
    "import polyglot\n",
    "from SentimentTrendPlot import plot_sentiment_trends"
   ]
  },
  {
   "cell_type": "code",
   "execution_count": 2,
   "metadata": {},
   "outputs": [],
   "source": [
    "#loading in data\n",
    "df = pd.read_csv(\"pubmed_cleaned.csv\")\n",
    "df = df[df['Clean_Abstract'].isnull() == False]"
   ]
  },
  {
   "cell_type": "code",
   "execution_count": 3,
   "metadata": {},
   "outputs": [
    {
     "data": {
      "text/plain": [
       "array(['fever', 'diabetes type 2', 'pancreatic cancer', 'alzheimers',\n",
       "       'lupus', 'parkinsons', 'dementia', 'breast cancer',\n",
       "       'high blood pressure', 'heart disease', 'lymphoma',\n",
       "       'clinical depression', 'bipolar disorder', 'arthritis',\n",
       "       'lime disease', 'amyotrophic lateral sclerosis', 'obesity',\n",
       "       'acquired immunodeficiency syndrome', 'thyroid cancer',\n",
       "       'kidney failure', 'multiple sclerosis', 'lung cancer', 'melanoma',\n",
       "       'Non-melanoma skin cancer', 'prostate cancer', 'Colorectal cancer',\n",
       "       'non-hodgkin lymphoma', 'insomnia', 'anxiety disorder', 'dystonia',\n",
       "       'influenza', 'stroke', 'hepatitis b'], dtype=object)"
      ]
     },
     "execution_count": 3,
     "metadata": {},
     "output_type": "execute_result"
    }
   ],
   "source": [
    "df['disease'].unique()"
   ]
  },
  {
   "cell_type": "code",
   "execution_count": 4,
   "metadata": {},
   "outputs": [
    {
     "data": {
      "text/plain": [
       "'fever relatively common worsens neurologic injury aneurysmal subarachnoid hemorrhage sah.aim study wa display time course body temperature identify predictive factor fever sah evaluate impact delayed cerebral ischemia dci clinical outcome.four hundred twelve patient sah ruptured aneurysm treated institution january december analyzed retrospectively.febrile group wa defined patient maximal temperature ≥38.0°c consecutive day day within week sah remaining patient comprised afebrile group.impact fever dci clinical outcome wa assessed.anterior communicating artery aneurysm hunt hess grade sah sum score intraventricular hemorrhage sum score body mass index independent predictive factor fever sah.larger sah fever independent risk factor dci.worse hunt hess grade concomitant intracerebral hemorrhage dci old age fever independent risk factor unfavorable outcome.predictor fever sah worse clinical status admission larger sah intraventricular hemorrhage anterior communicating artery aneurysm greater body mass index.fever wa independent risk factor dci unfavorable outcome aneurysmal sah'"
      ]
     },
     "execution_count": 4,
     "metadata": {},
     "output_type": "execute_result"
    }
   ],
   "source": [
    "df['Clean_Abstract'][0]"
   ]
  },
  {
   "cell_type": "code",
   "execution_count": 16,
   "metadata": {},
   "outputs": [],
   "source": [
    "#df = df[df['disease']=='alzheimers'].reset_index()"
   ]
  },
  {
   "cell_type": "markdown",
   "metadata": {},
   "source": [
    "#### Some more pre-processing- gathering the named entities"
   ]
  },
  {
   "cell_type": "code",
   "execution_count": 21,
   "metadata": {},
   "outputs": [
    {
     "name": "stderr",
     "output_type": "stream",
     "text": [
      "/anaconda3/lib/python3.6/site-packages/nltk/tag/stanford.py:183: DeprecationWarning: \n",
      "The StanfordTokenizer will be deprecated in version 3.2.5.\n",
      "Please use \u001b[91mnltk.tag.corenlp.CoreNLPPOSTagger\u001b[0m or \u001b[91mnltk.tag.corenlp.CoreNLPNERTagger\u001b[0m instead.\n",
      "  super(StanfordNERTagger, self).__init__(*args, **kwargs)\n"
     ]
    }
   ],
   "source": [
    "st = StanfordNERTagger('/Users/jacobdodd/Desktop/PhotoPharmicsProject/stanford-ner-2018-02-27/classifiers/english.all.3class.distsim.crf.ser.gz',\n",
    "                      '/Users/jacobdodd/Desktop/PhotoPharmicsProject/stanford-ner-2018-02-27/stanford-ner.jar')"
   ]
  },
  {
   "cell_type": "code",
   "execution_count": 20,
   "metadata": {},
   "outputs": [],
   "source": [
    "#st.tag(df['abstract'][0].split())"
   ]
  },
  {
   "cell_type": "code",
   "execution_count": 8,
   "metadata": {},
   "outputs": [],
   "source": [
    "from polyglot.text import Text"
   ]
  },
  {
   "cell_type": "code",
   "execution_count": 9,
   "metadata": {},
   "outputs": [
    {
     "data": {
      "text/plain": [
       "'The contribution of cardiovascular disease (CV) and cerebrovascular disease to the risk for late-onset Alzheimer disease (LOAD) has been long debated. Investigations have shown that antecedent CV risk factors increase the risk for LOAD, although other investigations have failed to validate this association.To study the contribution of CV risk factors (type 2 diabetes, hypertension, and heart disease) and the history of stroke to LOAD in a data set of large families multiply affected by LOAD.The National Institute on Aging Late-Onset Alzheimer Disease/National Cell Repository for Alzheimer Disease family study (hereinafter referred to as NIA-LOAD study) is a longitudinal study of families with multiple members affected with LOAD. A multiethnic community-based longitudinal study (Washington Heights-Inwood Columbia Aging Project [WHICAP]) was used to replicate findings. The 6553 participants in the NIA-LOAD study were recruited from 23 US Alzheimer disease centers with ongoing data collection since 2003; the 5972 WHICAP participants were recruited at Columbia University with ongoing data collection since 1992. Data analysis was performed from 2003 to 2015.Generalized mixed logistic regression models tested the association of CV risk factors (primary association) with LOAD. History of stroke was used for the secondary association. A secondary model adjusted for the presence of an apolipoprotein E (APOE) ε4 allele. A genetic risk score, based on common variants associated with LOAD, was used to account for LOAD genetic risk beyond the APOE ε4 effect. Mediation analyses evaluated stroke as a mediating factor between the primary association and LOAD.A total of 6553 NIA-LOAD participants were included in the analyses (4044 women [61.7%]; 2509 men [38.3%]; mean [SD] age, 77.0 [9] years), with 5972 individuals from the WHICAP study included in the replication sample (4072 women [68.2%]; 1900 men [31.8%]; mean [SD] age, 76.5 [7.0] years). Hypertension was associated with decreased LOAD risk (odds ratio [OR], 0.63; 95% CI, 0.55-0.72); type 2 diabetes and heart disease were not. History of stroke conferred greater than 2-fold increased risk for LOAD (OR, 2.23; 95% CI, 1.75-2.83). Adjustment for APOE ε4 did not alter results. The genetic risk score was associated with LOAD (OR, 2.85; 95% CI, 2.05-3.97) but did not change the independent association of LOAD with hypertension or stroke. In the WHICAP sample, hypertension was not associated with LOAD (OR, 0.99; 95% CI,\\u20090.88-1.11), whereas history of stroke increased the risk for LOAD (OR, 1.96; 95% CI, 1.56-2.46). The effect of hypertension on LOAD risk was also mediated by stroke in the NIA-LOAD and the WHICAP samples.In familial and sporadic LOAD, a history of stroke was significantly associated with increased disease risk and mediated the association between selected CV risk factors and LOAD, which appears to be independent of the LOAD-related genetic background.'"
      ]
     },
     "execution_count": 9,
     "metadata": {},
     "output_type": "execute_result"
    }
   ],
   "source": [
    "df['abstract'][3]"
   ]
  },
  {
   "cell_type": "code",
   "execution_count": 10,
   "metadata": {},
   "outputs": [],
   "source": [
    "text = Text(df['abstract'][3])"
   ]
  },
  {
   "cell_type": "code",
   "execution_count": 11,
   "metadata": {},
   "outputs": [
    {
     "data": {
      "text/plain": [
       "[I-ORG(['Investigations']),\n",
       " I-ORG(['LOAD.The', 'National']),\n",
       " I-ORG(['NIA']),\n",
       " I-ORG(['Washington']),\n",
       " I-LOC(['Washington', 'Heights']),\n",
       " I-LOC(['Inwood']),\n",
       " I-ORG(['Inwood', 'Columbia', 'Aging']),\n",
       " I-ORG(['NIA']),\n",
       " I-ORG(['Columbia', 'University']),\n",
       " I-PER(['APOE', 'ε4']),\n",
       " I-ORG(['NIA'])]"
      ]
     },
     "execution_count": 11,
     "metadata": {},
     "output_type": "execute_result"
    }
   ],
   "source": [
    "text.entities"
   ]
  },
  {
   "cell_type": "markdown",
   "metadata": {},
   "source": [
    "#### Creating the TF-IDF matrix\n",
    "\n",
    "A TF-IDF matrix is:  ___\n",
    "\n",
    "Steps:\n",
    "\n",
    "1) count word occurences by document\n",
    "\n",
    "2) transform that into a docment-term matrix, where the rows are the documents and the columns each represent 1 word\n",
    "\n",
    "3) apply erm frequency-inverse doc frequency weighting- words that occure frequently within a document but not frequently within all of the documents (corpus) recieve higher weights, as they are assumed to have higher relevance in doc"
   ]
  },
  {
   "cell_type": "code",
   "execution_count": 17,
   "metadata": {},
   "outputs": [
    {
     "name": "stdout",
     "output_type": "stream",
     "text": [
      "(60828, 1903)\n"
     ]
    }
   ],
   "source": [
    "# key args:\n",
    "# max_df: maximum frequency within the documents a given\n",
    "#    feature can have to be used in the tfi-idf matrix\n",
    "# min_idf: number or %  of of documents the term must be in to be considered in matrix\n",
    "# ngram_range - 1 for unigram (1 word) 2 for bigram, etc.\n",
    "\n",
    "tfidf_vectorizer = TfidfVectorizer(max_df=0.8, max_features=200000,\n",
    "                                 min_df=0.01, stop_words='english',\n",
    "                                 use_idf=True, ngram_range=(1,3))\n",
    "#%time \n",
    "tfidf_matrix = tfidf_vectorizer.fit_transform(df['Clean_Abstract'])\n",
    "\n",
    "print(tfidf_matrix.shape)"
   ]
  },
  {
   "cell_type": "code",
   "execution_count": 28,
   "metadata": {},
   "outputs": [],
   "source": [
    "# get terms in matrix\n",
    "terms = tfidf_vectorizer.get_feature_names()\n",
    "\n",
    "# get cosine similarity\n",
    "#dist = 1 - cosine_similarity(tfidf_matrix)"
   ]
  },
  {
   "cell_type": "markdown",
   "metadata": {},
   "source": [
    "## Option 1: Kmeans-clustering"
   ]
  },
  {
   "cell_type": "code",
   "execution_count": 22,
   "metadata": {},
   "outputs": [],
   "source": [
    "#joblib.dump(km,  'pb_doc_cluster.pkl')\n",
    "km = joblib.load('pb_doc_cluster.pkl')\n",
    "clusters = km.labels_.tolist()"
   ]
  },
  {
   "cell_type": "code",
   "execution_count": 26,
   "metadata": {},
   "outputs": [],
   "source": [
    "n_clusters = 8\n",
    "\n",
    "km = KMeans(n_clusters=n_clusters)\n",
    "\n",
    "%time km.fit(tfidf_matrix)\n",
    "\n",
    "clusters = km.labels_.tolist()"
   ]
  },
  {
   "cell_type": "code",
   "execution_count": 23,
   "metadata": {},
   "outputs": [],
   "source": [
    "df['cluster'] = clusters"
   ]
  },
  {
   "cell_type": "code",
   "execution_count": 24,
   "metadata": {},
   "outputs": [
    {
     "data": {
      "text/plain": [
       "0    28451\n",
       "1     9523\n",
       "3     8783\n",
       "6     3917\n",
       "4     3242\n",
       "5     3202\n",
       "2     1917\n",
       "7     1793\n",
       "Name: cluster, dtype: int64"
      ]
     },
     "execution_count": 24,
     "metadata": {},
     "output_type": "execute_result"
    }
   ],
   "source": [
    "df['cluster'].value_counts()"
   ]
  },
  {
   "cell_type": "code",
   "execution_count": 29,
   "metadata": {
    "scrolled": true
   },
   "outputs": [
    {
     "name": "stdout",
     "output_type": "stream",
     "text": [
      "Top terms per cluster:\n",
      "\n",
      "Cluster 0 words: patient wa disease stroke obesity study\n",
      "\n",
      "Cluster 0 titles:['Predictive Factors of Fever After Aneurysmal Subarachnoid Hemorrhage and Its Impact on Delayed Cerebral Ischemia and Clinical Outcomes.', 'Tri-phasic fever in dengue fever.', 'Periconceptional maternal fever, folic acid intake, and the risk for neural tube defects.', 'Neutropenic Fever.', 'Detection of human parvovirus B19 in serum samples from children under 5 years of age with rash-fever illnesses in the Democratic Republic of the Congo.', 'Temporal variation in confirmed diagnosis of fever-related malarial cases among children under-5\\xa0years by community health workers and in health facilities between years 2013 and 2015 in Siaya County, Kenya.', 'Evaluation of fever in the immediate post-operative period following shoulder arthroplasty.', '2 receptor in LPS-induced fever in rats.', 'Evaluation of fever in the emergency department.', 'Adequacy of initial evaluation of fever in long-term care facilities.', \"Post-operative fever in orthopaedic surgery: How effective is the 'fever workup?'\"]\n",
      "\n",
      "\n",
      "Cluster 1 words: disorder sleep anxiety dementia insomnia depression\n",
      "\n",
      "Cluster 1 titles:['When to Suspect Autoinflammatory/Recurrent Fever Syndromes.', 'Can cycles of chills and fever resolve bipolar disorder mania?', 'Anxiety and depression symptoms in patients with dengue fever and their correlation with symptom severity.', 'Anxiety and depression in obese and normal-weight individuals with diabetes type 2: a gender perspective.', 'Depression treatment and its impact upon the quality of life in patients with diabetes type 2 - the Croatian study.', 'Effect of the treatment of Type 2 diabetes mellitus on the development of cognitive impairment and dementia.', 'A Longitudinal Investigation of Anxiety and Depressive Symptomatology and Exercise Behaviour Among Adults With Type 2 Diabetes Mellitus.', 'Depression and Associated Factors in Patients with Type 2 Diabetes Mellitus.', 'Psychiatric disorders in patients with diabetes type 2 at medical care and training district of Rio Branco-Acre, Brazil.', 'Depressive symptoms and type 2 diabetes mellitus in outpatients of an Armed Forces hospital in Lima, Peru, 2012: a cross-sectional study.', 'Depressive symptoms prior to and following insulin initiation in patients with type 2 diabetes mellitus: Prevalence, risk factors and effect on physician resource utilisation.']\n",
      "\n",
      "\n",
      "Cluster 2 words: breast breast cancer cancer woman cell patient\n",
      "\n",
      "Cluster 2 titles:['Prevalence of Cancers of Female Organs among Patients with Diabetes Type 2 in Kelantan, Malaysia: Observations over an 11 Year Period and Strategies to Reduce the Incidence.', 'High-density lipoprotein of patients with breast cancer complicated with type 2 diabetes mellitus promotes cancer cells adhesion to vascular endothelium via ICAM-1 and VCAM-1 upregulation.', 'Rosiglitazone reduces breast cancer risk in Taiwanese female patients with type 2 diabetes mellitus.', 'Loss of microRNA-145 expression is involved in the development and prognosis of breast cancer complicated by type 2 diabetes mellitus.', 'Type 2 Diabetes Mellitus as a Risk Factor for Female Breast Cancer in the Population of Northern Pakistan.', 'Understanding the Association of Type 2 Diabetes Mellitus in Breast Cancer Among African\\xa0American and European American Populations in South Carolina.', 'Clinical features and molecular phenotypes of breast cancer in patients with type-2 diabetes mellitus.', 'Demographic Characteristics, Survival and Prognostic Factors of Early Breast Cancer Patients with Type 2 Diabetes Mellitus: A Hospital-Based Cohort Study', 'Risk of type 2 diabetes mellitus in female breast cancer patients treated with morphine: A retrospective population-based time-dependent cohort study.', 'More deaths from pancreatic cancer than breast cancer in the EU by 2017.', 'Breast cancer in systemic lupus erythematosus (SLE): receptor status and treatment.']\n",
      "\n",
      "\n",
      "Cluster 3 words: cancer prostate cell pancreatic lung prostate cancer\n",
      "\n",
      "Cluster 3 titles:['The Association between Fever and Prognosis in Lung Cancer Patients with Bone Metastases Receiving Zoledronic Acid.', 'Psychogenic fever in a patient with small cell lung cancer: a case report.', 'Fever as the presenting manifestation of colon cancer: a case series of 11 patients.', 'Cost of Cancer-Related Neutropenia or Fever Hospitalizations, United States, 2012.', \"Focusing on the structure and the function of Pin1: new insights into the opposite effects of fever on cancers and Alzheimer's disease.\", 'Pancreatic carcinoma masked as fever of unknown origin: A case report and comprehensive review of literature.', 'Non-small cell lung cancer presenting with neoplastic fever at diagnosis and relapse.', 'Postoperative fever and survival in patients after open resection for colorectal cancer: a long-term follow-up study of 2,311 prospectively enrolled patients.', 'Development of fever following first administration of zoledronate as a prognostic factor in advanced non-small cell lung cancer patients with bone metastases.', 'Diabetes Type 2 and Pancreatic Cancer: A History Unfolding.', 'Prospective study of Type 2 diabetes mellitus, anti-diabetic drugs and risk of prostate cancer.']\n",
      "\n",
      "\n",
      "Cluster 4 words: melanoma skin cell skin cancer cancer patient\n",
      "\n",
      "Cluster 4 titles:['Variants associated with susceptibility to pancreatic cancer and melanoma do not reciprocally affect risk.', 'Two cases of lupus vulgaris in childhood and review of the clinical challenges.', 'Cutaneous malignant melanoma and Parkinson disease: Common pathways?', 'No association between Parkinson disease alleles and the risk of melanoma.', 'The MC1R melanoma risk variant p.R160W is associated with Parkinson disease.', 'Parkinson disease and malignant melanoma in first-degree relatives of patients with early-onset melanoma.', 'A Review of the Association Between Parkinson Disease and Malignant Melanoma.', 'Parkinson Disease and Melanoma: Confirming and Reexamining an Association.', 'Meta-analysis of the relationship between Parkinson disease and melanoma.', 'Malignant melanoma and other types of cancer preceding Parkinson disease.', 'Salt Sensitivity of Angiogenesis Inhibition-Induced Blood Pressure Rise: Role of Interstitial Sodium Accumulation?']\n",
      "\n",
      "\n",
      "Cluster 5 words: lymphoma nhl cell patient hodgkin hodgkin lymphoma\n",
      "\n",
      "Cluster 5 titles:['Sarcoidosis with fever and a splenic infarct due to CMV or lymphoma?', 'HHV-6 reactivation as a cause of fever in\\xa0autologous hematopoietic stem cell transplant recipients.', 'Severe fever with thrombocytopenia syndrome mimicking intravascular lymphoma.', 'HIV-negative Primary Bone Marrow Hodgkin Lymphoma Manifesting with a High Fever Associated with Hemophagocytosis as the Initial Symptom: A Case Report and Review of the Previous Literature.', \"Granulocyte colony-stimulating factor-induced granulomatous dermatitis with enlarged histiocytes clinically manifesting as painful edematous nodules with high fever similar to Sweet's syndrome.\", 'Thrombocytopenia and fever: not just another infection….', 'Patients with Fever of Unknown Origin and Splenomegaly: Diagnostic Value of Splenectomy and Preoperative Risk Factors Suggestive of Underlying Lymphomas.', 'Mortality in patients presenting with fever of unknown origin.', 'Usefulness of Random Skin Biopsy as a Diagnostic Tool of Intravascular Lymphoma Presenting With Fever of Unknown Origin.', 'Development of primary central nervous system lymphoma in a systemic lupus erythematosus patient after treatment with mycophenolate mofetil and review of the literature.', 'Coexistence of systemic lupus erythematosus, tuberous sclerosis and aggressive natural killer-cell leukaemia: coincidence or correlated?']\n",
      "\n",
      "\n",
      "Cluster 6 words: influenza hbv virus hepatitis infection vaccine\n",
      "\n",
      "Cluster 6 titles:['Assessing Fever Frequency After Pediatric Live Attenuated Versus Inactivated Influenza Vaccination.', 'Prodromal fever indicates a high risk of liver failure in acute hepatitis B.', 'Identification of pathogens for differential diagnosis of fever with jaundice in the Central African Republic: a retrospective assessment, 2008-2010.', 'The presence of fever in adults with influenza and other viral respiratory infections.', 'Should clinical case definitions of influenza in hospitalized older adults include fever?', 'A multi-site feasibility study to assess fever and wheezing in children after influenza vaccines using text messaging.', 'Duration of fever and other symptoms after the inhalation of laninamivir octanoate hydrate for influenza treatment; comparison among the four Japanese influenza seasons from 2011-2012 to 2014-2015.', 'Association of Rift Valley fever virus infection with miscarriage in Sudanese women: a cross-sectional study.', 'Kinetics of pro-inflammatory cytokines, interleukin-10, and virus neutralising antibodies during acute ephemeral fever virus infections in Brahman cattle.', 'A randomised double-blind clinical trial of two yellow fever vaccines prepared with substrains 17DD and 17D-213/77 in children nine-23 months old.', 'Additional treatment with clarithromycin reduces fever duration in patients with influenza.']\n",
      "\n",
      "\n",
      "Cluster 7 words: al lateral sclerosis amyotrophic amyotrophic lateral amyotrophic lateral sclerosis lateral\n",
      "\n",
      "Cluster 7 titles:['Alisertib induces cell cycle arrest and autophagy and suppresses epithelial-to-mesenchymal transition involving PI3K/Akt/mTOR and sirtuin 1-mediated signaling pathways in human pancreatic cancer cells.', 'Analysis of neurodegenerative Mendelian genes in clinically diagnosed Alzheimer Disease.', 'Identification of CHCHD10 Mutation in Chinese Patients with Alzheimer Disease.', 'Alzheimer disease and amyotrophic lateral sclerosis: an etiopathogenic connection.', 'C9ORF72 expansions, parkinsonism, and Parkinson disease: a clinicopathologic study.', 'Global investigation and meta-analysis of the C9orf72 (G4C2)n repeat in Parkinson disease.', 'Sporadic Parkinson disease and amyotrophic lateral sclerosis complex (Brait-Fahn-Schwartz disease).', 'C9ORF72 intermediate repeat copies are a significant risk factor for Parkinson disease.', 'Angiogenin in Parkinson disease models: role of Akt phosphorylation and evaluation of AAV-mediated angiogenin expression in MPTP treated mice.', 'Evaluation of potential infectivity of Alzheimer and Parkinson disease proteins in recipients of cadaver-derived human growth hormone.', 'Comorbidity of dementia with amyotrophic lateral sclerosis (ALS): insights from a large multicenter Italian cohort.']\n",
      "\n",
      "\n"
     ]
    }
   ],
   "source": [
    "print(\"Top terms per cluster:\")\n",
    "print()\n",
    "order_centroids = km.cluster_centers_.argsort()[:, ::-1]\n",
    "for i in range(n_clusters):\n",
    "    print(\"Cluster %d words:\" % i, end='')\n",
    "    for ind in order_centroids[i, :6]:\n",
    "        print(' %s' % terms[ind], end='')\n",
    "    print()\n",
    "    print()\n",
    "    print(\"Cluster %d titles:\" % i, end='')\n",
    "    titles = df[df['cluster']==i]['Article_title'].values.tolist()\n",
    "    print(titles[0:11])\n",
    "    print()\n",
    "    print()"
   ]
  },
  {
   "cell_type": "code",
   "execution_count": 100,
   "metadata": {},
   "outputs": [],
   "source": [
    "import json"
   ]
  },
  {
   "cell_type": "markdown",
   "metadata": {},
   "source": [
    "## Option 1: create tokens for each abstract and then POS tag, then get sentiment for each term"
   ]
  },
  {
   "cell_type": "code",
   "execution_count": 35,
   "metadata": {},
   "outputs": [],
   "source": [
    "# map part of speech for sentiment library from returned form\n",
    "def map_pos(x):\n",
    "    x = str(x)\n",
    "    newtag = ''\n",
    "    if x.startswith('NN'):\n",
    "        newtag = 'n'\n",
    "    elif x.startswith('JJ'):\n",
    "        newtag = 'a'\n",
    "    elif x.startswith('V'):\n",
    "        newtag = 'v'\n",
    "    elif x.startswith('R'):\n",
    "        newtag = 'r'\n",
    "    else:\n",
    "        newtag = ''\n",
    "    return newtag\n",
    "    \n",
    "# tag the word for pos\n",
    "def abs_tagger(x):\n",
    "    text = nltk.word_tokenize(x)\n",
    "    return nltk.pos_tag(text)    \n",
    "\n",
    "# get sentiment score of document\n",
    "def tag_get_score(x,sentences=False,weights=None):\n",
    "    import json\n",
    "    \n",
    "    if sentences:\n",
    "        \n",
    "        x = x.split('.')\n",
    "        \n",
    "        sent_score = []\n",
    "        n_sentences = len(x)\n",
    "        #print(n_sentences)\n",
    "        #print(x)\n",
    "        \n",
    "        for i in range(n_sentences):\n",
    "            sentence_score = []\n",
    "            #print(x)\n",
    "            tagged_tokens = abs_tagger(x[i])\n",
    "\n",
    "            for token in tagged_tokens:\n",
    "                lemma = token[0]\n",
    "                newtag = map_pos(token[1])\n",
    "                if newtag != '':\n",
    "                    #swn_term = str(lemma + '.'+newtag+'.01')\n",
    "                    swn_lemma = list(swn.senti_synsets(lemma,newtag))\n",
    "                    score = 0.0\n",
    "                    if (len(swn_lemma)>0):\n",
    "                        for s in swn_lemma:\n",
    "                            score = s.pos_score() - s.neg_score()\n",
    "                        sentence_score.append(score / len(swn_lemma))\n",
    "            \n",
    "            sum_score = sum([word_score for word_score in sentence_score])\n",
    "            sent_score.append(sum_score)\n",
    "        \n",
    "        #print(sent_score)\n",
    "        \n",
    "        if (len(sent_score) == 0) | (len(sent_score)==1):\n",
    "            return float(0.0)\n",
    "        else:\n",
    "            if weights == None:\n",
    "                return sum([word_score for word_score in sent_score])# / (len(sent_score))),\n",
    "                        #(len(sent_score)/float(len(tagged_tokens))))\n",
    "            else:\n",
    "                weighted_scores = []\n",
    "                mid = n_sentences/2.0\n",
    "                if len(sent_score) > 0:\n",
    "                    for j in range(len(sent_score)):\n",
    "                        if j > mid:\n",
    "                            weighted_scores.append((sent_score[j]*weights[1]))\n",
    "                        elif j <= mid:\n",
    "                            weighted_scores.append((sent_score[j]*weights[0]))\n",
    "                    return sum([score for score in weighted_scores])\n",
    "                    \n",
    "                else:\n",
    "                    return float(0.0)\n",
    "\n",
    "    else:\n",
    "    \n",
    "        sent_score = []\n",
    "\n",
    "        tagged_tokens = abs_tagger(x)\n",
    "\n",
    "        for token in tagged_tokens:\n",
    "\n",
    "            lemma = token[0]\n",
    "\n",
    "            newtag = map_pos(token[1])\n",
    "\n",
    "            if newtag != '':\n",
    "                #swn_term = str(lemma + '.'+newtag+'.01')\n",
    "                swn_lemma = list(swn.senti_synsets(lemma,newtag))\n",
    "                score = 0.0\n",
    "                if (len(swn_lemma)>0):\n",
    "                    for s in swn_lemma:\n",
    "                        score = s.pos_score() - s.neg_score()\n",
    "                    sent_score.append(score / len(swn_lemma))\n",
    "\n",
    "        if (len(sent_score) == 0 or len(sent_score)==1):\n",
    "            return (float(0.0),0.00)\n",
    "        else:\n",
    "            #print(sent_score)\n",
    "            return sum([word_score for word_score in sent_score])#, / (len(sent_score))),\n",
    "                    #(len(sent_score)/float(len(tagged_tokens))))"
   ]
  },
  {
   "cell_type": "code",
   "execution_count": 36,
   "metadata": {},
   "outputs": [
    {
     "name": "stdout",
     "output_type": "stream",
     "text": [
      "-4.318452380952381\n",
      "-4.068452380952381\n"
     ]
    }
   ],
   "source": [
    "test_ab = df['Clean_Abstract'][1]\n",
    "print(tag_get_score(test_ab,sentences=True,weights=None))\n",
    "print(tag_get_score(test_ab))"
   ]
  },
  {
   "cell_type": "code",
   "execution_count": 37,
   "metadata": {},
   "outputs": [],
   "source": [
    "df['abs_scores'] = df['Clean_Abstract'].apply(lambda x: tag_get_score(x,sentences=True))\n",
    "#df['perc_tagged'] = df['Clean_Abstract'].apply(lambda x: tag_get_score(x)[1])"
   ]
  },
  {
   "cell_type": "code",
   "execution_count": 38,
   "metadata": {},
   "outputs": [
    {
     "data": {
      "text/plain": [
       "count    60828.000000\n",
       "mean        -0.271254\n",
       "std          1.995901\n",
       "min        -20.924213\n",
       "25%         -1.164714\n",
       "50%         -0.057526\n",
       "75%          0.825151\n",
       "max         12.664881\n",
       "Name: abs_scores, dtype: float64"
      ]
     },
     "execution_count": 38,
     "metadata": {},
     "output_type": "execute_result"
    }
   ],
   "source": [
    "df['abs_scores'].describe()"
   ]
  },
  {
   "cell_type": "code",
   "execution_count": 39,
   "metadata": {},
   "outputs": [
    {
     "data": {
      "text/plain": [
       "(array([1.0000e+00, 2.0000e+00, 3.0000e+00, 8.0000e+00, 2.0000e+01,\n",
       "        3.0000e+01, 8.7000e+01, 2.4000e+02, 5.4900e+02, 1.4040e+03,\n",
       "        4.3380e+03, 1.2992e+04, 2.7041e+04, 1.1286e+04, 2.1730e+03,\n",
       "        4.6200e+02, 1.3100e+02, 4.3000e+01, 1.1000e+01, 7.0000e+00]),\n",
       " array([-20.924213  , -19.2447583 , -17.5653036 , -15.8858489 ,\n",
       "        -14.20639421, -12.52693951, -10.84748481,  -9.16803011,\n",
       "         -7.48857542,  -5.80912072,  -4.12966602,  -2.45021132,\n",
       "         -0.77075663,   0.90869807,   2.58815277,   4.26760747,\n",
       "          5.94706216,   7.62651686,   9.30597156,  10.98542625,\n",
       "         12.66488095]),\n",
       " <a list of 20 Patch objects>)"
      ]
     },
     "execution_count": 39,
     "metadata": {},
     "output_type": "execute_result"
    },
    {
     "data": {
      "image/png": "[encoded data removed]",
      "text/plain": [
       "<matplotlib.figure.Figure at 0x1a1c126da0>"
      ]
     },
     "metadata": {},
     "output_type": "display_data"
    }
   ],
   "source": [
    "plt.style.use(\"dark_background\")\n",
    "plt.hist(df['abs_scores'],bins=20)"
   ]
  },
  {
   "cell_type": "code",
   "execution_count": 3,
   "metadata": {},
   "outputs": [],
   "source": [
    "#df.to_csv(\"pubmed_cleaned_scored.csv\")\n",
    "df = pd.read_csv(\"pubmed_cleaned_scored.csv\")"
   ]
  },
  {
   "cell_type": "code",
   "execution_count": 4,
   "metadata": {},
   "outputs": [
    {
     "data": {
      "text/plain": [
       "55609    During the 2013-2014 influenza season, Public ...\n",
       "Name: abstract, dtype: object"
      ]
     },
     "execution_count": 4,
     "metadata": {},
     "output_type": "execute_result"
    }
   ],
   "source": [
    "df[df['abs_scores'] == df['abs_scores'].max()]['abstract']"
   ]
  },
  {
   "cell_type": "code",
   "execution_count": 5,
   "metadata": {},
   "outputs": [
    {
     "data": {
      "text/plain": [
       "\"To validate the Fullerton Advanced Balance (FAB) Scale for patients with idiopathic Parkinson disease (PD); and to compare the FAB Scale with the Mini-Balance Evaluation Systems Test (Mini-BESTest) and Berg Balance Scale (BBS).Observational study to assess concurrent validity, test-retest, and interrater reliability of the FAB Scale in patients with PD and to compare the distribution of the scale with the Mini-BESTest and BBS.University hospital in an urban community.Patients with idiopathic PD (N=85; Hoehn and Yahr stages 1-4).Not applicable.FAB Scale, Mini-BESTest, BBS, timed Up and Go test, Unified Parkinson's Disease Rating Scale, and visual analog scale.Interrater (3 raters) and test-retest (3±1 d) reliability were high for all scales (ICCs≥.95). The FAB Scale was highly correlated with the Mini-BESTest (Spearman ρ=.87) and timed Up and Go test item of the Mini-BESTest (Spearman ρ=.83). In contrast with the BBS, the FAB Scale and Mini-BESTest have only minimal ceiling effects. The FAB Scale demonstrated the most symmetric distribution when compared with the Mini-BESTest and BBS (skewness: FAB scale: -.54; Mini-BESTest: -1.07; BBS: -2.14).The FAB Scale is a valid and reliable tool to assess postural control in patients with PD. No ceiling effect was noted for the FAB Scale. Although the items of the FAB Scale are more detailed when compared with the Mini-BESTest, interrater and test-retest reliability were excellent. The scale is a promising tool to detect small changes of the postural control system in individuals with PD.\""
      ]
     },
     "execution_count": 5,
     "metadata": {},
     "output_type": "execute_result"
    }
   ],
   "source": [
    "df[df['abs_scores'] > 10]['abstract'][10243]"
   ]
  },
  {
   "cell_type": "code",
   "execution_count": 6,
   "metadata": {},
   "outputs": [
    {
     "name": "stdout",
     "output_type": "stream",
     "text": [
      "<class 'pandas.core.frame.DataFrame'>\n",
      "RangeIndex: 60828 entries, 0 to 60827\n",
      "Data columns (total 20 columns):\n",
      "Unnamed: 0        60828 non-null int64\n",
      "Unnamed: 0.1      60828 non-null int64\n",
      "Unnamed: 0.1.1    60828 non-null int64\n",
      "Article_title     60828 non-null object\n",
      "Date              60828 non-null object\n",
      "ISSN              60810 non-null object\n",
      "PMID              60828 non-null int64\n",
      "abstract          60828 non-null object\n",
      "authors           58353 non-null object\n",
      "disease           60828 non-null object\n",
      "journal_title     60828 non-null object\n",
      "keywords          35557 non-null object\n",
      "language          60828 non-null object\n",
      "med_type          34016 non-null object\n",
      "Clean_Date        60828 non-null object\n",
      "Month             60828 non-null int64\n",
      "Year              60828 non-null int64\n",
      "Day               60828 non-null int64\n",
      "Clean_Abstract    60828 non-null object\n",
      "abs_scores        60828 non-null float64\n",
      "dtypes: float64(1), int64(7), object(12)\n",
      "memory usage: 9.3+ MB\n"
     ]
    }
   ],
   "source": [
    "df.info()"
   ]
  },
  {
   "cell_type": "code",
   "execution_count": 7,
   "metadata": {},
   "outputs": [],
   "source": [
    "#plt.hist(df['perc_tagged'],bins=20)"
   ]
  },
  {
   "cell_type": "code",
   "execution_count": 8,
   "metadata": {},
   "outputs": [
    {
     "data": {
      "text/plain": [
       "disease\n",
       "insomnia                             -3.373999\n",
       "obesity                              -2.489965\n",
       "hepatitis b                          -1.675548\n",
       "anxiety disorder                     -1.489538\n",
       "dementia                             -1.263741\n",
       "arthritis                            -1.252598\n",
       "fever                                -0.674395\n",
       "multiple sclerosis                   -0.566321\n",
       "clinical depression                  -0.440472\n",
       "lupus                                -0.419348\n",
       "thyroid cancer                       -0.391547\n",
       "non-hodgkin lymphoma                 -0.254443\n",
       "diabetes type 2                      -0.213794\n",
       "acquired immunodeficiency syndrome   -0.207334\n",
       "lung cancer                          -0.135541\n",
       "kidney failure                       -0.129999\n",
       "amyotrophic lateral sclerosis        -0.070283\n",
       "bipolar disorder                     -0.035790\n",
       "dystonia                              0.017155\n",
       "lymphoma                              0.049432\n",
       "pancreatic cancer                     0.080933\n",
       "Non-melanoma skin cancer              0.106335\n",
       "Colorectal cancer                     0.116029\n",
       "breast cancer                         0.158711\n",
       "lime disease                          0.196235\n",
       "melanoma                              0.231190\n",
       "stroke                                0.316431\n",
       "parkinsons                            0.421154\n",
       "alzheimers                            0.426205\n",
       "prostate cancer                       0.475897\n",
       "heart disease                         0.651931\n",
       "high blood pressure                   0.821888\n",
       "influenza                             2.768769\n",
       "Name: abs_scores, dtype: float64"
      ]
     },
     "execution_count": 8,
     "metadata": {},
     "output_type": "execute_result"
    }
   ],
   "source": [
    "df.groupby('disease',group_keys=False)['abs_scores'].mean().sort_values()"
   ]
  },
  {
   "cell_type": "markdown",
   "metadata": {},
   "source": [
    "#### Plotting Sentiment over time for disease"
   ]
  },
  {
   "cell_type": "code",
   "execution_count": 9,
   "metadata": {},
   "outputs": [
    {
     "data": {
      "image/png": "[encoded data removed]",
      "text/plain": [
       "<matplotlib.figure.Figure at 0x1a1e26aef0>"
      ]
     },
     "metadata": {},
     "output_type": "display_data"
    },
    {
     "data": {
      "image/png": "[encoded data removed]",
      "text/plain": [
       "<matplotlib.figure.Figure at 0x1a1d7682b0>"
      ]
     },
     "metadata": {},
     "output_type": "display_data"
    }
   ],
   "source": [
    "yearly = plot_sentiment_trends(df=df,term='lung cancer',style='ggplot')"
   ]
  },
  {
   "cell_type": "code",
   "execution_count": 222,
   "metadata": {},
   "outputs": [
    {
     "data": {
      "text/html": [
       "<div>\n",
       "<style scoped>\n",
       "    .dataframe tbody tr th:only-of-type {\n",
       "        vertical-align: middle;\n",
       "    }\n",
       "\n",
       "    .dataframe tbody tr th {\n",
       "        vertical-align: top;\n",
       "    }\n",
       "\n",
       "    .dataframe thead th {\n",
       "        text-align: right;\n",
       "    }\n",
       "</style>\n",
       "<table border=\"1\" class=\"dataframe\">\n",
       "  <thead>\n",
       "    <tr style=\"text-align: right;\">\n",
       "      <th></th>\n",
       "      <th>index</th>\n",
       "      <th>group_date</th>\n",
       "      <th>min_pos</th>\n",
       "      <th>max_pos</th>\n",
       "      <th>mean_pos</th>\n",
       "      <th>count_pos</th>\n",
       "      <th>min_neg</th>\n",
       "      <th>max_neg</th>\n",
       "      <th>mean_neg</th>\n",
       "      <th>count_neg</th>\n",
       "      <th>perc_pos</th>\n",
       "      <th>min</th>\n",
       "      <th>max</th>\n",
       "      <th>mean</th>\n",
       "      <th>count</th>\n",
       "    </tr>\n",
       "  </thead>\n",
       "  <tbody>\n",
       "    <tr>\n",
       "      <th>0</th>\n",
       "      <td>3</td>\n",
       "      <td>2013</td>\n",
       "      <td>0.034037</td>\n",
       "      <td>2.716378</td>\n",
       "      <td>1.189714</td>\n",
       "      <td>14</td>\n",
       "      <td>-3.460671</td>\n",
       "      <td>-0.094683</td>\n",
       "      <td>-1.376612</td>\n",
       "      <td>20.0</td>\n",
       "      <td>0.411765</td>\n",
       "      <td>-3.460671</td>\n",
       "      <td>2.716378</td>\n",
       "      <td>-0.319889</td>\n",
       "      <td>34</td>\n",
       "    </tr>\n",
       "    <tr>\n",
       "      <th>1</th>\n",
       "      <td>4</td>\n",
       "      <td>2014</td>\n",
       "      <td>0.000000</td>\n",
       "      <td>2.425833</td>\n",
       "      <td>0.854499</td>\n",
       "      <td>48</td>\n",
       "      <td>-5.805560</td>\n",
       "      <td>-0.027808</td>\n",
       "      <td>-1.501011</td>\n",
       "      <td>69.0</td>\n",
       "      <td>0.410256</td>\n",
       "      <td>-5.805560</td>\n",
       "      <td>2.425833</td>\n",
       "      <td>-0.534648</td>\n",
       "      <td>117</td>\n",
       "    </tr>\n",
       "    <tr>\n",
       "      <th>2</th>\n",
       "      <td>5</td>\n",
       "      <td>2015</td>\n",
       "      <td>0.028274</td>\n",
       "      <td>7.469455</td>\n",
       "      <td>1.036077</td>\n",
       "      <td>140</td>\n",
       "      <td>-7.322006</td>\n",
       "      <td>-0.001746</td>\n",
       "      <td>-1.264789</td>\n",
       "      <td>155.0</td>\n",
       "      <td>0.474576</td>\n",
       "      <td>-7.322006</td>\n",
       "      <td>7.469455</td>\n",
       "      <td>-0.172853</td>\n",
       "      <td>295</td>\n",
       "    </tr>\n",
       "    <tr>\n",
       "      <th>3</th>\n",
       "      <td>6</td>\n",
       "      <td>2016</td>\n",
       "      <td>0.000000</td>\n",
       "      <td>4.181851</td>\n",
       "      <td>0.909147</td>\n",
       "      <td>278</td>\n",
       "      <td>-8.095833</td>\n",
       "      <td>-0.007500</td>\n",
       "      <td>-1.296371</td>\n",
       "      <td>283.0</td>\n",
       "      <td>0.495544</td>\n",
       "      <td>-8.095833</td>\n",
       "      <td>4.181851</td>\n",
       "      <td>-0.203441</td>\n",
       "      <td>561</td>\n",
       "    </tr>\n",
       "    <tr>\n",
       "      <th>4</th>\n",
       "      <td>7</td>\n",
       "      <td>2017</td>\n",
       "      <td>0.000000</td>\n",
       "      <td>5.125496</td>\n",
       "      <td>0.819411</td>\n",
       "      <td>404</td>\n",
       "      <td>-7.078699</td>\n",
       "      <td>-0.002522</td>\n",
       "      <td>-1.112239</td>\n",
       "      <td>348.0</td>\n",
       "      <td>0.537234</td>\n",
       "      <td>-7.078699</td>\n",
       "      <td>5.125496</td>\n",
       "      <td>-0.074491</td>\n",
       "      <td>752</td>\n",
       "    </tr>\n",
       "    <tr>\n",
       "      <th>5</th>\n",
       "      <td>8</td>\n",
       "      <td>2018</td>\n",
       "      <td>0.000000</td>\n",
       "      <td>6.141806</td>\n",
       "      <td>1.015864</td>\n",
       "      <td>115</td>\n",
       "      <td>-5.446767</td>\n",
       "      <td>-0.000744</td>\n",
       "      <td>-0.910311</td>\n",
       "      <td>105.0</td>\n",
       "      <td>0.522727</td>\n",
       "      <td>-5.446767</td>\n",
       "      <td>6.141806</td>\n",
       "      <td>0.096553</td>\n",
       "      <td>220</td>\n",
       "    </tr>\n",
       "  </tbody>\n",
       "</table>\n",
       "</div>"
      ],
      "text/plain": [
       "   index group_date   min_pos   max_pos  mean_pos  count_pos   min_neg  \\\n",
       "0      3       2013  0.034037  2.716378  1.189714         14 -3.460671   \n",
       "1      4       2014  0.000000  2.425833  0.854499         48 -5.805560   \n",
       "2      5       2015  0.028274  7.469455  1.036077        140 -7.322006   \n",
       "3      6       2016  0.000000  4.181851  0.909147        278 -8.095833   \n",
       "4      7       2017  0.000000  5.125496  0.819411        404 -7.078699   \n",
       "5      8       2018  0.000000  6.141806  1.015864        115 -5.446767   \n",
       "\n",
       "    max_neg  mean_neg  count_neg  perc_pos       min       max      mean  \\\n",
       "0 -0.094683 -1.376612       20.0  0.411765 -3.460671  2.716378 -0.319889   \n",
       "1 -0.027808 -1.501011       69.0  0.410256 -5.805560  2.425833 -0.534648   \n",
       "2 -0.001746 -1.264789      155.0  0.474576 -7.322006  7.469455 -0.172853   \n",
       "3 -0.007500 -1.296371      283.0  0.495544 -8.095833  4.181851 -0.203441   \n",
       "4 -0.002522 -1.112239      348.0  0.537234 -7.078699  5.125496 -0.074491   \n",
       "5 -0.000744 -0.910311      105.0  0.522727 -5.446767  6.141806  0.096553   \n",
       "\n",
       "   count  \n",
       "0     34  \n",
       "1    117  \n",
       "2    295  \n",
       "3    561  \n",
       "4    752  \n",
       "5    220  "
      ]
     },
     "execution_count": 222,
     "metadata": {},
     "output_type": "execute_result"
    }
   ],
   "source": [
    "yearly"
   ]
  },
  {
   "cell_type": "code",
   "execution_count": 131,
   "metadata": {},
   "outputs": [
    {
     "data": {
      "text/plain": [
       "['seaborn-dark',\n",
       " 'seaborn-darkgrid',\n",
       " 'seaborn-ticks',\n",
       " 'fivethirtyeight',\n",
       " 'seaborn-whitegrid',\n",
       " 'classic',\n",
       " '_classic_test',\n",
       " 'fast',\n",
       " 'seaborn-talk',\n",
       " 'seaborn-dark-palette',\n",
       " 'seaborn-bright',\n",
       " 'seaborn-pastel',\n",
       " 'grayscale',\n",
       " 'seaborn-notebook',\n",
       " 'ggplot',\n",
       " 'seaborn-colorblind',\n",
       " 'seaborn-muted',\n",
       " 'seaborn',\n",
       " 'Solarize_Light2',\n",
       " 'seaborn-paper',\n",
       " 'bmh',\n",
       " 'seaborn-white',\n",
       " 'dark_background',\n",
       " 'seaborn-poster',\n",
       " 'seaborn-deep']"
      ]
     },
     "execution_count": 131,
     "metadata": {},
     "output_type": "execute_result"
    }
   ],
   "source": [
    "plt.style.available"
   ]
  },
  {
   "cell_type": "code",
   "execution_count": 125,
   "metadata": {},
   "outputs": [],
   "source": [
    "#disease = 'breast cancer'\n",
    "\n",
    "#plot_df = df[df['disease']== disease][['abs_scores','Clean_Date']]\n",
    "#plot_df = df[['abs_scores','Clean_Date','disease']]\n",
    "\n",
    "#aids_df.set_index('Clean_Date',inplace=True,drop=True)\n",
    "#aids_df['Clean_Date'], aids_df['Clean_Date'] = aids_df['Clean_Date'].dt.year, \\\n",
    "#aids_df['Clean_Date'].dt.month\n",
    "\n",
    "#plot_df['group_date'] = plot_df['Clean_Date'].apply(str).apply(lambda x: x.split('-')[0]) \\\n",
    "                            #+ \"-\"+ plot_df['Clean_Date'].apply(str).apply(lambda x: x.split('-')[1]) \n",
    "\n",
    "#yearly = pd.DataFrame(plot_df.groupby(['group_date'],group_keys=False)['abs_scores'].agg(['min','max','mean','count']))\n",
    "\n",
    "#n_years = plot_df['group_date'].nunique()\n",
    "#zeros = [0]*n_years\n",
    "#aids_df.head()\n",
    "\n",
    "#plt.figure(figsize=(12,6))\n",
    "#plt.plot(yearly['Mean'])\n",
    "#plt.title(\"Average {} Article Sentiment\".format(disease))\n",
    "#plt.xlabel(\"Year\")\n",
    "#plt.ylabel(\"Average Total Sentiment\")\n",
    "#plt.ylim(-2,5)\n",
    "#plt.plot(zeros,'--',linewidth=1,color='red')"
   ]
  },
  {
   "cell_type": "markdown",
   "metadata": {},
   "source": [
    "#### Melting the cleaned abstract to tokens"
   ]
  },
  {
   "cell_type": "code",
   "execution_count": null,
   "metadata": {},
   "outputs": [],
   "source": [
    "abst_tokens = pd.DataFrame(df['Clean_Abstract'].str.split(' ',expand=True),index=df.index)\n",
    "#abst_tokens['Title'] = df['Article_title']\n",
    "\n",
    "abst_tokens['article_id'] = abst_tokens.index\n",
    "\n",
    "abst_df = pd.melt(abst_tokens, id_vars=['article_id'])\n",
    "\n",
    "abst_df = abst_df.sort_values(by=['article_id','variable'])\n",
    "\n",
    "abst_df.dropna(subset=['value'],inplace=True)\n",
    "\n",
    "print(abst_df.head())"
   ]
  },
  {
   "cell_type": "markdown",
   "metadata": {},
   "source": [
    "#### Creating the document-term matrix"
   ]
  },
  {
   "cell_type": "code",
   "execution_count": null,
   "metadata": {},
   "outputs": [],
   "source": [
    "vec = CountVectorizer(decode_error='ignore')\n",
    "X = vec.fit_transform(df['Clean_Abstract'])\n",
    "abst = pd.DataFrame(X.toarray(), columns=vec.get_feature_names())\n",
    "print(abst.head())\n"
   ]
  },
  {
   "cell_type": "markdown",
   "metadata": {},
   "source": [
    "#### Getting most common words in dataset"
   ]
  },
  {
   "cell_type": "code",
   "execution_count": null,
   "metadata": {},
   "outputs": [],
   "source": [
    "s = abst.sum(axis=0)#.sort(ascending=False, inplace=False)"
   ]
  },
  {
   "cell_type": "code",
   "execution_count": null,
   "metadata": {},
   "outputs": [],
   "source": [
    "s.sort_values(ascending=False).head(100)"
   ]
  },
  {
   "cell_type": "code",
   "execution_count": null,
   "metadata": {},
   "outputs": [],
   "source": [
    "plt.hist(s.values,bins=np.arange(min(s.values), max(s.values) + 10,10))\n",
    "plt.xlim(0,250)"
   ]
  },
  {
   "cell_type": "code",
   "execution_count": null,
   "metadata": {},
   "outputs": [],
   "source": []
  }
 ],
 "metadata": {
  "kernelspec": {
   "display_name": "Python 3",
   "language": "python",
   "name": "python3"
  },
  "language_info": {
   "codemirror_mode": {
    "name": "ipython",
    "version": 3
   },
   "file_extension": ".py",
   "mimetype": "text/x-python",
   "name": "python",
   "nbconvert_exporter": "python",
   "pygments_lexer": "ipython3",
   "version": "3.6.4"
  }
 },
 "nbformat": 4,
 "nbformat_minor": 2
}
