{
 "cells": [
  {
   "cell_type": "markdown",
   "metadata": {},
   "source": [
    "# Goal: pre-process abstracts corpus for wordcloud"
   ]
  },
  {
   "cell_type": "code",
   "execution_count": 1,
   "metadata": {},
   "outputs": [],
   "source": [
    "import pandas as pd\n",
    "import numpy as np\n",
    "import matplotlib.pyplot as plt\n",
    "import seaborn as sns\n",
    "import datetime,re, string, timeit, nltk\n",
    "from sklearn.feature_extraction.text import CountVectorizer,TfidfVectorizer\n",
    "from nltk.stem import WordNetLemmatizer\n",
    "from nltk.corpus import stopwords\n",
    "from nltk.sentiment.vader import SentimentIntensityAnalyzer\n",
    "from nltk.corpus import sentiwordnet as swn\n",
    "from nltk.corpus.reader.wordnet import WordNetError\n",
    "from sklearn.feature_extraction.text import TfidfVectorizer\n",
    "from sklearn.metrics.pairwise import cosine_similarity\n",
    "from sklearn.cluster import KMeans\n",
    "from  sklearn.externals import joblib\n",
    "from nltk.tag import StanfordNERTagger\n",
    "from nltk.tag.stanford import CoreNLPNERTagger\n",
    "from nltk.tag.stanford import StanfordNERTagger\n",
    "import polyglot\n",
    "from SentimentTrendPlot import plot_sentiment_trends\n",
    "from PubmedSentimentFunctions import abs_tagger,map_pos,tag_get_score\n",
    "%matplotlib inline\n",
    "from scipy.cluster.hierarchy import dendrogram, linkage"
   ]
  },
  {
   "cell_type": "code",
   "execution_count": 2,
   "metadata": {},
   "outputs": [],
   "source": [
    "# Load in cleaned dataset, this one has been pre-scored\n",
    "df = pd.read_csv(\"pubmed_cleaned_scored.csv\")"
   ]
  },
  {
   "cell_type": "markdown",
   "metadata": {},
   "source": [
    "#### Create TF-IDF Matrix"
   ]
  },
  {
   "cell_type": "code",
   "execution_count": null,
   "metadata": {},
   "outputs": [],
   "source": [
    "# key args:\n",
    "# max_df: maximum frequency within the documents a given\n",
    "#    feature can have to be used in the tfi-idf matrix\n",
    "# min_idf: number or %  of of documents the term must be in to be considered in matrix\n",
    "# ngram_range - 1 for unigram (1 word) 2 for bigram, etc.\n",
    "\n",
    "tfidf_vectorizer = TfidfVectorizer(max_df=0.8, max_features=200000,\n",
    "                                 min_df=0.01, stop_words='english',\n",
    "                                 use_idf=True, ngram_range=(1,3))\n",
    "#%time \n",
    "tfidf_matrix = tfidf_vectorizer.fit_transform(df['Clean_Abstract'])\n",
    "\n",
    "print(tfidf_matrix.shape)"
   ]
  },
  {
   "cell_type": "code",
   "execution_count": null,
   "metadata": {},
   "outputs": [],
   "source": [
    "# get terms in matrix\n",
    "terms = tfidf_vectorizer.get_feature_names()"
   ]
  },
  {
   "cell_type": "markdown",
   "metadata": {},
   "source": [
    "#### Melt and Reshape TF-IDF Matrix into tidy format"
   ]
  },
  {
   "cell_type": "code",
   "execution_count": null,
   "metadata": {},
   "outputs": [],
   "source": [
    "# pre-process tf-idf matrix\n",
    "tfidf = pd.DataFrame(tfidf_matrix.todense(), index=df.index, \n",
    "                     columns=tfidf_vectorizer.get_feature_names())\n",
    "\n",
    "# add Pubmed ID for joining in future\n",
    "tfidf['PMID'] = df.PMID"
   ]
  },
  {
   "cell_type": "code",
   "execution_count": null,
   "metadata": {},
   "outputs": [],
   "source": [
    "# melt long dataframe to tidy dataframe\n",
    "tfidf_tidy = pd.melt(tfidf.reset_index(), \n",
    "                     id_vars=['level_0','PMID'], \n",
    "                     value_name='tfidf').query('tfidf > 0')"
   ]
  },
  {
   "cell_type": "markdown",
   "metadata": {},
   "source": [
    "#### Group Resulting Dataframe to get Mean Weight by word"
   ]
  },
  {
   "cell_type": "code",
   "execution_count": null,
   "metadata": {},
   "outputs": [],
   "source": [
    "# group by word and aggregegate\n",
    "mean_tfidf = pd.DataFrame(tfidf_tidy.groupby(\"variable\",\n",
    "                        group_keys=False)['tfidf'].mean())"
   ]
  },
  {
   "cell_type": "code",
   "execution_count": null,
   "metadata": {},
   "outputs": [],
   "source": [
    "mean_tfidf.reset_index(inplace=True)"
   ]
  },
  {
   "cell_type": "markdown",
   "metadata": {},
   "source": [
    "#### Export as csv"
   ]
  },
  {
   "cell_type": "code",
   "execution_count": null,
   "metadata": {},
   "outputs": [],
   "source": [
    "mean_tfidf.to_csv(\"mean_tfidf_corpus.csv\")"
   ]
  }
 ],
 "metadata": {
  "kernelspec": {
   "display_name": "Python 3",
   "language": "python",
   "name": "python3"
  },
  "language_info": {
   "codemirror_mode": {
    "name": "ipython",
    "version": 3
   },
   "file_extension": ".py",
   "mimetype": "text/x-python",
   "name": "python",
   "nbconvert_exporter": "python",
   "pygments_lexer": "ipython3",
   "version": "3.6.4"
  }
 },
 "nbformat": 4,
 "nbformat_minor": 2
}
